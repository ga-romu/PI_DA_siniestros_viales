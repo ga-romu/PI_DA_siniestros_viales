{
 "cells": [
  {
   "cell_type": "code",
   "execution_count": 6,
   "metadata": {},
   "outputs": [
    {
     "data": {
      "text/html": [
       "<div>\n",
       "<style scoped>\n",
       "    .dataframe tbody tr th:only-of-type {\n",
       "        vertical-align: middle;\n",
       "    }\n",
       "\n",
       "    .dataframe tbody tr th {\n",
       "        vertical-align: top;\n",
       "    }\n",
       "\n",
       "    .dataframe thead th {\n",
       "        text-align: right;\n",
       "    }\n",
       "</style>\n",
       "<table border=\"1\" class=\"dataframe\">\n",
       "  <thead>\n",
       "    <tr style=\"text-align: right;\">\n",
       "      <th></th>\n",
       "      <th>Año</th>\n",
       "      <th>Edad</th>\n",
       "      <th>Total</th>\n",
       "      <th>Varones</th>\n",
       "      <th>Mujeres</th>\n",
       "    </tr>\n",
       "  </thead>\n",
       "  <tbody>\n",
       "    <tr>\n",
       "      <th>0</th>\n",
       "      <td>2021</td>\n",
       "      <td>0</td>\n",
       "      <td>40225.4512</td>\n",
       "      <td>20736.640</td>\n",
       "      <td>19488.8112</td>\n",
       "    </tr>\n",
       "    <tr>\n",
       "      <th>1</th>\n",
       "      <td>2021</td>\n",
       "      <td>1</td>\n",
       "      <td>40404.0720</td>\n",
       "      <td>20808.048</td>\n",
       "      <td>19596.0240</td>\n",
       "    </tr>\n",
       "    <tr>\n",
       "      <th>2</th>\n",
       "      <td>2021</td>\n",
       "      <td>2</td>\n",
       "      <td>40515.3360</td>\n",
       "      <td>20851.016</td>\n",
       "      <td>19664.3200</td>\n",
       "    </tr>\n",
       "    <tr>\n",
       "      <th>3</th>\n",
       "      <td>2021</td>\n",
       "      <td>3</td>\n",
       "      <td>40566.4640</td>\n",
       "      <td>20868.168</td>\n",
       "      <td>19698.2960</td>\n",
       "    </tr>\n",
       "    <tr>\n",
       "      <th>4</th>\n",
       "      <td>2021</td>\n",
       "      <td>4</td>\n",
       "      <td>40564.6768</td>\n",
       "      <td>20862.128</td>\n",
       "      <td>19702.5488</td>\n",
       "    </tr>\n",
       "  </tbody>\n",
       "</table>\n",
       "</div>"
      ],
      "text/plain": [
       "    Año Edad       Total    Varones     Mujeres\n",
       "0  2021    0  40225.4512  20736.640  19488.8112\n",
       "1  2021    1  40404.0720  20808.048  19596.0240\n",
       "2  2021    2  40515.3360  20851.016  19664.3200\n",
       "3  2021    3  40566.4640  20868.168  19698.2960\n",
       "4  2021    4  40564.6768  20862.128  19702.5488"
      ]
     },
     "execution_count": 6,
     "metadata": {},
     "output_type": "execute_result"
    }
   ],
   "source": [
    "import pandas as pd\n",
    "\n",
    "poblacion_caba2021 = pd.read_excel('../data/raw/PBP_CO_T_1025.xls', sheet_name='2021')\n",
    "poblacion_caba2021.head()"
   ]
  },
  {
   "cell_type": "code",
   "execution_count": 9,
   "metadata": {},
   "outputs": [],
   "source": [
    "poblacion_caba2021.to_csv('../data/processed/pob_caba2021.csv',index= False , encoding='utf8' )"
   ]
  },
  {
   "cell_type": "code",
   "execution_count": 3,
   "metadata": {},
   "outputs": [
    {
     "data": {
      "text/html": [
       "<div>\n",
       "<style scoped>\n",
       "    .dataframe tbody tr th:only-of-type {\n",
       "        vertical-align: middle;\n",
       "    }\n",
       "\n",
       "    .dataframe tbody tr th {\n",
       "        vertical-align: top;\n",
       "    }\n",
       "\n",
       "    .dataframe thead th {\n",
       "        text-align: right;\n",
       "    }\n",
       "</style>\n",
       "<table border=\"1\" class=\"dataframe\">\n",
       "  <thead>\n",
       "    <tr style=\"text-align: right;\">\n",
       "      <th></th>\n",
       "      <th>Año</th>\n",
       "      <th>Edad</th>\n",
       "      <th>Total</th>\n",
       "      <th>Varones</th>\n",
       "      <th>Mujeres</th>\n",
       "    </tr>\n",
       "  </thead>\n",
       "  <tbody>\n",
       "    <tr>\n",
       "      <th>0</th>\n",
       "      <td>2020</td>\n",
       "      <td>0</td>\n",
       "      <td>40944.2848</td>\n",
       "      <td>21102.2768</td>\n",
       "      <td>19842.008</td>\n",
       "    </tr>\n",
       "    <tr>\n",
       "      <th>1</th>\n",
       "      <td>2020</td>\n",
       "      <td>1</td>\n",
       "      <td>40866.6160</td>\n",
       "      <td>21044.5840</td>\n",
       "      <td>19822.032</td>\n",
       "    </tr>\n",
       "    <tr>\n",
       "      <th>2</th>\n",
       "      <td>2020</td>\n",
       "      <td>2</td>\n",
       "      <td>40796.8000</td>\n",
       "      <td>20996.2960</td>\n",
       "      <td>19800.504</td>\n",
       "    </tr>\n",
       "    <tr>\n",
       "      <th>3</th>\n",
       "      <td>2020</td>\n",
       "      <td>3</td>\n",
       "      <td>40731.5840</td>\n",
       "      <td>20954.7120</td>\n",
       "      <td>19776.872</td>\n",
       "    </tr>\n",
       "    <tr>\n",
       "      <th>4</th>\n",
       "      <td>2020</td>\n",
       "      <td>4</td>\n",
       "      <td>40667.7152</td>\n",
       "      <td>20917.1312</td>\n",
       "      <td>19750.584</td>\n",
       "    </tr>\n",
       "  </tbody>\n",
       "</table>\n",
       "</div>"
      ],
      "text/plain": [
       "    Año Edad       Total     Varones    Mujeres\n",
       "0  2020    0  40944.2848  21102.2768  19842.008\n",
       "1  2020    1  40866.6160  21044.5840  19822.032\n",
       "2  2020    2  40796.8000  20996.2960  19800.504\n",
       "3  2020    3  40731.5840  20954.7120  19776.872\n",
       "4  2020    4  40667.7152  20917.1312  19750.584"
      ]
     },
     "execution_count": 3,
     "metadata": {},
     "output_type": "execute_result"
    }
   ],
   "source": [
    "poblacion_caba2020 = pd.read_excel('../data/raw/PBP_CO_T_1025.xls', sheet_name='2020')\n",
    "poblacion_caba2020.head()"
   ]
  },
  {
   "cell_type": "code",
   "execution_count": 8,
   "metadata": {},
   "outputs": [],
   "source": [
    "poblacion_caba2020.to_csv('../data/processed/pob_caba2020.csv',index= False , encoding='utf8' )"
   ]
  },
  {
   "cell_type": "code",
   "execution_count": null,
   "metadata": {},
   "outputs": [],
   "source": []
  }
 ],
 "metadata": {
  "kernelspec": {
   "display_name": "Python 3",
   "language": "python",
   "name": "python3"
  },
  "language_info": {
   "codemirror_mode": {
    "name": "ipython",
    "version": 3
   },
   "file_extension": ".py",
   "mimetype": "text/x-python",
   "name": "python",
   "nbconvert_exporter": "python",
   "pygments_lexer": "ipython3",
   "version": "3.11.7"
  }
 },
 "nbformat": 4,
 "nbformat_minor": 2
}
